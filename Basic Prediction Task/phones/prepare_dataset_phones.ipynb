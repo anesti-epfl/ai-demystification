{
 "cells": [
  {
   "cell_type": "markdown",
   "id": "be45ae84-964b-4cfa-be68-0122adfa9bae",
   "metadata": {},
   "source": [
    "# Mobile Phones \n",
    "The original dataset has been downloaded from : https://www.kaggle.com/datasets/artempozdniakov/ukrainian-market-mobile-phones-data"
   ]
  },
  {
   "cell_type": "code",
   "execution_count": 1,
   "id": "1f1888fd-34ec-4148-b5c2-97dd3235ca2f",
   "metadata": {},
   "outputs": [],
   "source": [
    "import pandas as pd"
   ]
  },
  {
   "cell_type": "code",
   "execution_count": 2,
   "id": "67fe45ca-f8f2-4836-b5fb-c274e4f6dfb2",
   "metadata": {},
   "outputs": [],
   "source": [
    "path_data = \"../data/\""
   ]
  },
  {
   "cell_type": "code",
   "execution_count": 3,
   "id": "44d134ef-97da-4c3f-a058-59493bda6685",
   "metadata": {},
   "outputs": [
    {
     "data": {
      "text/html": [
       "<div>\n",
       "<style scoped>\n",
       "    .dataframe tbody tr th:only-of-type {\n",
       "        vertical-align: middle;\n",
       "    }\n",
       "\n",
       "    .dataframe tbody tr th {\n",
       "        vertical-align: top;\n",
       "    }\n",
       "\n",
       "    .dataframe thead th {\n",
       "        text-align: right;\n",
       "    }\n",
       "</style>\n",
       "<table border=\"1\" class=\"dataframe\">\n",
       "  <thead>\n",
       "    <tr style=\"text-align: right;\">\n",
       "      <th></th>\n",
       "      <th>Unnamed: 0</th>\n",
       "      <th>brand_name</th>\n",
       "      <th>model_name</th>\n",
       "      <th>os</th>\n",
       "      <th>popularity</th>\n",
       "      <th>best_price</th>\n",
       "      <th>lowest_price</th>\n",
       "      <th>highest_price</th>\n",
       "      <th>sellers_amount</th>\n",
       "      <th>screen_size</th>\n",
       "      <th>memory_size</th>\n",
       "      <th>battery_size</th>\n",
       "      <th>release_date</th>\n",
       "    </tr>\n",
       "  </thead>\n",
       "  <tbody>\n",
       "    <tr>\n",
       "      <th>0</th>\n",
       "      <td>0</td>\n",
       "      <td>ALCATEL</td>\n",
       "      <td>1 1/8GB Bluish Black (5033D-2JALUAA)</td>\n",
       "      <td>Android</td>\n",
       "      <td>422</td>\n",
       "      <td>1690.0</td>\n",
       "      <td>1529.0</td>\n",
       "      <td>1819.0</td>\n",
       "      <td>36</td>\n",
       "      <td>5.00</td>\n",
       "      <td>8.0</td>\n",
       "      <td>2000.0</td>\n",
       "      <td>10-2020</td>\n",
       "    </tr>\n",
       "    <tr>\n",
       "      <th>1</th>\n",
       "      <td>1</td>\n",
       "      <td>ALCATEL</td>\n",
       "      <td>1 5033D 1/16GB Volcano Black (5033D-2LALUAF)</td>\n",
       "      <td>Android</td>\n",
       "      <td>323</td>\n",
       "      <td>1803.0</td>\n",
       "      <td>1659.0</td>\n",
       "      <td>2489.0</td>\n",
       "      <td>36</td>\n",
       "      <td>5.00</td>\n",
       "      <td>16.0</td>\n",
       "      <td>2000.0</td>\n",
       "      <td>9-2020</td>\n",
       "    </tr>\n",
       "    <tr>\n",
       "      <th>2</th>\n",
       "      <td>2</td>\n",
       "      <td>ALCATEL</td>\n",
       "      <td>1 5033D 1/16GB Volcano Black (5033D-2LALUAF)</td>\n",
       "      <td>Android</td>\n",
       "      <td>299</td>\n",
       "      <td>1803.0</td>\n",
       "      <td>1659.0</td>\n",
       "      <td>2489.0</td>\n",
       "      <td>36</td>\n",
       "      <td>5.00</td>\n",
       "      <td>16.0</td>\n",
       "      <td>2000.0</td>\n",
       "      <td>9-2020</td>\n",
       "    </tr>\n",
       "    <tr>\n",
       "      <th>3</th>\n",
       "      <td>3</td>\n",
       "      <td>ALCATEL</td>\n",
       "      <td>1 5033D 1/16GB Volcano Black (5033D-2LALUAF)</td>\n",
       "      <td>Android</td>\n",
       "      <td>287</td>\n",
       "      <td>1803.0</td>\n",
       "      <td>1659.0</td>\n",
       "      <td>2489.0</td>\n",
       "      <td>36</td>\n",
       "      <td>5.00</td>\n",
       "      <td>16.0</td>\n",
       "      <td>2000.0</td>\n",
       "      <td>9-2020</td>\n",
       "    </tr>\n",
       "    <tr>\n",
       "      <th>4</th>\n",
       "      <td>4</td>\n",
       "      <td>Nokia</td>\n",
       "      <td>1.3 1/16GB Charcoal</td>\n",
       "      <td>Android</td>\n",
       "      <td>1047</td>\n",
       "      <td>1999.0</td>\n",
       "      <td>NaN</td>\n",
       "      <td>NaN</td>\n",
       "      <td>10</td>\n",
       "      <td>5.71</td>\n",
       "      <td>16.0</td>\n",
       "      <td>3000.0</td>\n",
       "      <td>4-2020</td>\n",
       "    </tr>\n",
       "  </tbody>\n",
       "</table>\n",
       "</div>"
      ],
      "text/plain": [
       "   Unnamed: 0 brand_name                                    model_name  \\\n",
       "0           0    ALCATEL          1 1/8GB Bluish Black (5033D-2JALUAA)   \n",
       "1           1    ALCATEL  1 5033D 1/16GB Volcano Black (5033D-2LALUAF)   \n",
       "2           2    ALCATEL  1 5033D 1/16GB Volcano Black (5033D-2LALUAF)   \n",
       "3           3    ALCATEL  1 5033D 1/16GB Volcano Black (5033D-2LALUAF)   \n",
       "4           4      Nokia                           1.3 1/16GB Charcoal   \n",
       "\n",
       "        os  popularity  best_price  lowest_price  highest_price  \\\n",
       "0  Android         422      1690.0        1529.0         1819.0   \n",
       "1  Android         323      1803.0        1659.0         2489.0   \n",
       "2  Android         299      1803.0        1659.0         2489.0   \n",
       "3  Android         287      1803.0        1659.0         2489.0   \n",
       "4  Android        1047      1999.0           NaN            NaN   \n",
       "\n",
       "   sellers_amount  screen_size  memory_size  battery_size release_date  \n",
       "0              36         5.00          8.0        2000.0      10-2020  \n",
       "1              36         5.00         16.0        2000.0       9-2020  \n",
       "2              36         5.00         16.0        2000.0       9-2020  \n",
       "3              36         5.00         16.0        2000.0       9-2020  \n",
       "4              10         5.71         16.0        3000.0       4-2020  "
      ]
     },
     "execution_count": 3,
     "metadata": {},
     "output_type": "execute_result"
    }
   ],
   "source": [
    "df = pd.read_csv(path_data + \"phones_data.csv\")\n",
    "df.head()"
   ]
  },
  {
   "cell_type": "code",
   "execution_count": 4,
   "id": "e787b0f9-8130-49b8-80d3-32dc1760c1f0",
   "metadata": {},
   "outputs": [],
   "source": [
    "df[\"release_year\"] = pd.to_datetime(df[\"release_date\"]).dt.year"
   ]
  },
  {
   "cell_type": "code",
   "execution_count": 5,
   "id": "5c53d3b4-02a9-4a06-a90f-99abea270166",
   "metadata": {},
   "outputs": [],
   "source": [
    "df = df.drop(columns=[\"Unnamed: 0\", \"lowest_price\", \"highest_price\", \"release_date\"])"
   ]
  },
  {
   "cell_type": "code",
   "execution_count": 6,
   "id": "6e245b0c-b2d7-49db-8c63-a38390b00854",
   "metadata": {},
   "outputs": [
    {
     "data": {
      "text/plain": [
       "(1224, 10)"
      ]
     },
     "execution_count": 6,
     "metadata": {},
     "output_type": "execute_result"
    }
   ],
   "source": [
    "df.shape"
   ]
  },
  {
   "cell_type": "markdown",
   "id": "134aec12-f930-45a2-8903-b0bd39a4bde7",
   "metadata": {},
   "source": [
    "## Duplicated model names "
   ]
  },
  {
   "cell_type": "code",
   "execution_count": 7,
   "id": "da0959d9-2642-4d76-be6d-61d54092c513",
   "metadata": {},
   "outputs": [
    {
     "data": {
      "text/plain": [
       "1 5033D 1/16GB Volcano Black (5033D-2LALUAF)      3\n",
       "S40 Lite 2/16GB Black                             3\n",
       "Galaxy M10 SM-M105F 2/16GB Black (SM-M105GDAG)    3\n",
       "F243 Swift Dual Sim Blue                          3\n",
       "7 16GB (Gold)                                     3\n",
       "Name: model_name, dtype: int64"
      ]
     },
     "execution_count": 7,
     "metadata": {},
     "output_type": "execute_result"
    }
   ],
   "source": [
    "# some models appear multiple times\n",
    "df.model_name.value_counts()[:5]"
   ]
  },
  {
   "cell_type": "code",
   "execution_count": 8,
   "id": "7faffa31-da30-4c06-93ab-9003e26cec47",
   "metadata": {},
   "outputs": [
    {
     "data": {
      "text/html": [
       "<div>\n",
       "<style scoped>\n",
       "    .dataframe tbody tr th:only-of-type {\n",
       "        vertical-align: middle;\n",
       "    }\n",
       "\n",
       "    .dataframe tbody tr th {\n",
       "        vertical-align: top;\n",
       "    }\n",
       "\n",
       "    .dataframe thead th {\n",
       "        text-align: right;\n",
       "    }\n",
       "</style>\n",
       "<table border=\"1\" class=\"dataframe\">\n",
       "  <thead>\n",
       "    <tr style=\"text-align: right;\">\n",
       "      <th></th>\n",
       "      <th>brand_name</th>\n",
       "      <th>model_name</th>\n",
       "      <th>os</th>\n",
       "      <th>popularity</th>\n",
       "      <th>best_price</th>\n",
       "      <th>sellers_amount</th>\n",
       "      <th>screen_size</th>\n",
       "      <th>memory_size</th>\n",
       "      <th>battery_size</th>\n",
       "      <th>release_year</th>\n",
       "    </tr>\n",
       "  </thead>\n",
       "  <tbody>\n",
       "    <tr>\n",
       "      <th>1</th>\n",
       "      <td>ALCATEL</td>\n",
       "      <td>1 5033D 1/16GB Volcano Black (5033D-2LALUAF)</td>\n",
       "      <td>Android</td>\n",
       "      <td>323</td>\n",
       "      <td>1803.0</td>\n",
       "      <td>36</td>\n",
       "      <td>5.0</td>\n",
       "      <td>16.0</td>\n",
       "      <td>2000.0</td>\n",
       "      <td>2020</td>\n",
       "    </tr>\n",
       "    <tr>\n",
       "      <th>2</th>\n",
       "      <td>ALCATEL</td>\n",
       "      <td>1 5033D 1/16GB Volcano Black (5033D-2LALUAF)</td>\n",
       "      <td>Android</td>\n",
       "      <td>299</td>\n",
       "      <td>1803.0</td>\n",
       "      <td>36</td>\n",
       "      <td>5.0</td>\n",
       "      <td>16.0</td>\n",
       "      <td>2000.0</td>\n",
       "      <td>2020</td>\n",
       "    </tr>\n",
       "    <tr>\n",
       "      <th>3</th>\n",
       "      <td>ALCATEL</td>\n",
       "      <td>1 5033D 1/16GB Volcano Black (5033D-2LALUAF)</td>\n",
       "      <td>Android</td>\n",
       "      <td>287</td>\n",
       "      <td>1803.0</td>\n",
       "      <td>36</td>\n",
       "      <td>5.0</td>\n",
       "      <td>16.0</td>\n",
       "      <td>2000.0</td>\n",
       "      <td>2020</td>\n",
       "    </tr>\n",
       "  </tbody>\n",
       "</table>\n",
       "</div>"
      ],
      "text/plain": [
       "  brand_name                                    model_name       os  \\\n",
       "1    ALCATEL  1 5033D 1/16GB Volcano Black (5033D-2LALUAF)  Android   \n",
       "2    ALCATEL  1 5033D 1/16GB Volcano Black (5033D-2LALUAF)  Android   \n",
       "3    ALCATEL  1 5033D 1/16GB Volcano Black (5033D-2LALUAF)  Android   \n",
       "\n",
       "   popularity  best_price  sellers_amount  screen_size  memory_size  \\\n",
       "1         323      1803.0              36          5.0         16.0   \n",
       "2         299      1803.0              36          5.0         16.0   \n",
       "3         287      1803.0              36          5.0         16.0   \n",
       "\n",
       "   battery_size  release_year  \n",
       "1        2000.0          2020  \n",
       "2        2000.0          2020  \n",
       "3        2000.0          2020  "
      ]
     },
     "execution_count": 8,
     "metadata": {},
     "output_type": "execute_result"
    }
   ],
   "source": [
    "# Seems related to popularity, but unclear why\n",
    "df[df[\"model_name\"] == \"S40 Lite 2/16GB Black\"]\n",
    "df[df[\"model_name\"] == \"1 5033D 1/16GB Volcano Black (5033D-2LALUAF)\"]"
   ]
  },
  {
   "cell_type": "code",
   "execution_count": 9,
   "id": "a43624b2-692a-4db1-af7b-56213cae59a7",
   "metadata": {},
   "outputs": [],
   "source": [
    "# for the purpose of this exercise, we will keep the first entry\n",
    "df = df.groupby(\"model_name\").first()"
   ]
  },
  {
   "cell_type": "markdown",
   "id": "1e3fb841-8de1-415c-9025-f7c7efbed590",
   "metadata": {},
   "source": [
    "## Missing values\n",
    "Misisng categorical features are labeled as 'missing'.\n",
    "\n",
    "Misisng numerical features are labeled as -1."
   ]
  },
  {
   "cell_type": "code",
   "execution_count": 10,
   "id": "0a7f14a5-a4e9-453f-87b9-8a29f80ffc89",
   "metadata": {},
   "outputs": [
    {
     "data": {
      "text/plain": [
       "brand_name          0\n",
       "os                163\n",
       "popularity          0\n",
       "best_price          0\n",
       "sellers_amount      0\n",
       "screen_size         2\n",
       "memory_size        94\n",
       "battery_size       10\n",
       "release_year        0\n",
       "dtype: int64"
      ]
     },
     "execution_count": 10,
     "metadata": {},
     "output_type": "execute_result"
    }
   ],
   "source": [
    "df.isna().sum()"
   ]
  },
  {
   "cell_type": "code",
   "execution_count": 11,
   "id": "1a21a033-ad07-4554-9c12-e35bfc79b4ae",
   "metadata": {},
   "outputs": [],
   "source": [
    "df[\"os\"].fillna(\"missing\", inplace=True)"
   ]
  },
  {
   "cell_type": "code",
   "execution_count": 12,
   "id": "314bd0b6-5b8f-41de-b8e8-810d62f1bd30",
   "metadata": {},
   "outputs": [
    {
     "data": {
      "text/html": [
       "<div>\n",
       "<style scoped>\n",
       "    .dataframe tbody tr th:only-of-type {\n",
       "        vertical-align: middle;\n",
       "    }\n",
       "\n",
       "    .dataframe tbody tr th {\n",
       "        vertical-align: top;\n",
       "    }\n",
       "\n",
       "    .dataframe thead th {\n",
       "        text-align: right;\n",
       "    }\n",
       "</style>\n",
       "<table border=\"1\" class=\"dataframe\">\n",
       "  <thead>\n",
       "    <tr style=\"text-align: right;\">\n",
       "      <th></th>\n",
       "      <th>brand_name</th>\n",
       "      <th>os</th>\n",
       "      <th>popularity</th>\n",
       "      <th>best_price</th>\n",
       "      <th>sellers_amount</th>\n",
       "      <th>screen_size</th>\n",
       "      <th>memory_size</th>\n",
       "      <th>battery_size</th>\n",
       "      <th>release_year</th>\n",
       "    </tr>\n",
       "    <tr>\n",
       "      <th>model_name</th>\n",
       "      <th></th>\n",
       "      <th></th>\n",
       "      <th></th>\n",
       "      <th></th>\n",
       "      <th></th>\n",
       "      <th></th>\n",
       "      <th></th>\n",
       "      <th></th>\n",
       "      <th></th>\n",
       "    </tr>\n",
       "  </thead>\n",
       "  <tbody>\n",
       "    <tr>\n",
       "      <th>105 DS 2019 Pink (16KIGP01A01)</th>\n",
       "      <td>Nokia</td>\n",
       "      <td>missing</td>\n",
       "      <td>18</td>\n",
       "      <td>583.0</td>\n",
       "      <td>28</td>\n",
       "      <td>1.77</td>\n",
       "      <td>0.004</td>\n",
       "      <td>800.0</td>\n",
       "      <td>2019</td>\n",
       "    </tr>\n",
       "    <tr>\n",
       "      <th>105 Dual Sim 2019 Black (16KIGB01A01)</th>\n",
       "      <td>Nokia</td>\n",
       "      <td>missing</td>\n",
       "      <td>262</td>\n",
       "      <td>601.0</td>\n",
       "      <td>31</td>\n",
       "      <td>1.77</td>\n",
       "      <td>NaN</td>\n",
       "      <td>800.0</td>\n",
       "      <td>2019</td>\n",
       "    </tr>\n",
       "    <tr>\n",
       "      <th>105 Dual Sim New Black (A00028315)</th>\n",
       "      <td>Nokia</td>\n",
       "      <td>missing</td>\n",
       "      <td>507</td>\n",
       "      <td>552.0</td>\n",
       "      <td>2</td>\n",
       "      <td>1.80</td>\n",
       "      <td>0.004</td>\n",
       "      <td>800.0</td>\n",
       "      <td>2017</td>\n",
       "    </tr>\n",
       "    <tr>\n",
       "      <th>105 Single Sim 2019 Black (16KIGB01A13)</th>\n",
       "      <td>Nokia</td>\n",
       "      <td>missing</td>\n",
       "      <td>805</td>\n",
       "      <td>536.0</td>\n",
       "      <td>31</td>\n",
       "      <td>1.77</td>\n",
       "      <td>NaN</td>\n",
       "      <td>800.0</td>\n",
       "      <td>2019</td>\n",
       "    </tr>\n",
       "    <tr>\n",
       "      <th>105 Single Sim 2019 Pink (16KIGP01A13)</th>\n",
       "      <td>Nokia</td>\n",
       "      <td>missing</td>\n",
       "      <td>692</td>\n",
       "      <td>547.0</td>\n",
       "      <td>35</td>\n",
       "      <td>1.77</td>\n",
       "      <td>NaN</td>\n",
       "      <td>800.0</td>\n",
       "      <td>2019</td>\n",
       "    </tr>\n",
       "  </tbody>\n",
       "</table>\n",
       "</div>"
      ],
      "text/plain": [
       "                                        brand_name       os  popularity  \\\n",
       "model_name                                                                \n",
       "105 DS 2019 Pink (16KIGP01A01)               Nokia  missing          18   \n",
       "105 Dual Sim 2019 Black (16KIGB01A01)        Nokia  missing         262   \n",
       "105 Dual Sim New Black (A00028315)           Nokia  missing         507   \n",
       "105 Single Sim 2019 Black (16KIGB01A13)      Nokia  missing         805   \n",
       "105 Single Sim 2019 Pink (16KIGP01A13)       Nokia  missing         692   \n",
       "\n",
       "                                         best_price  sellers_amount  \\\n",
       "model_name                                                            \n",
       "105 DS 2019 Pink (16KIGP01A01)                583.0              28   \n",
       "105 Dual Sim 2019 Black (16KIGB01A01)         601.0              31   \n",
       "105 Dual Sim New Black (A00028315)            552.0               2   \n",
       "105 Single Sim 2019 Black (16KIGB01A13)       536.0              31   \n",
       "105 Single Sim 2019 Pink (16KIGP01A13)        547.0              35   \n",
       "\n",
       "                                         screen_size  memory_size  \\\n",
       "model_name                                                          \n",
       "105 DS 2019 Pink (16KIGP01A01)                  1.77        0.004   \n",
       "105 Dual Sim 2019 Black (16KIGB01A01)           1.77          NaN   \n",
       "105 Dual Sim New Black (A00028315)              1.80        0.004   \n",
       "105 Single Sim 2019 Black (16KIGB01A13)         1.77          NaN   \n",
       "105 Single Sim 2019 Pink (16KIGP01A13)          1.77          NaN   \n",
       "\n",
       "                                         battery_size  release_year  \n",
       "model_name                                                           \n",
       "105 DS 2019 Pink (16KIGP01A01)                  800.0          2019  \n",
       "105 Dual Sim 2019 Black (16KIGB01A01)           800.0          2019  \n",
       "105 Dual Sim New Black (A00028315)              800.0          2017  \n",
       "105 Single Sim 2019 Black (16KIGB01A13)         800.0          2019  \n",
       "105 Single Sim 2019 Pink (16KIGP01A13)          800.0          2019  "
      ]
     },
     "execution_count": 12,
     "metadata": {},
     "output_type": "execute_result"
    }
   ],
   "source": [
    "# Note, missing os also have low memory size\n",
    "df[df[\"os\"] == \"missing\"].head()"
   ]
  },
  {
   "cell_type": "code",
   "execution_count": 13,
   "id": "5748a4e6-9af8-4632-bbdb-0fb770a9f8ce",
   "metadata": {},
   "outputs": [],
   "source": [
    "df = df.fillna(-1)"
   ]
  },
  {
   "cell_type": "code",
   "execution_count": 14,
   "id": "9cc260e5-aaed-451f-beaa-c6e950faa399",
   "metadata": {},
   "outputs": [
    {
     "data": {
      "text/html": [
       "<div>\n",
       "<style scoped>\n",
       "    .dataframe tbody tr th:only-of-type {\n",
       "        vertical-align: middle;\n",
       "    }\n",
       "\n",
       "    .dataframe tbody tr th {\n",
       "        vertical-align: top;\n",
       "    }\n",
       "\n",
       "    .dataframe thead th {\n",
       "        text-align: right;\n",
       "    }\n",
       "</style>\n",
       "<table border=\"1\" class=\"dataframe\">\n",
       "  <thead>\n",
       "    <tr style=\"text-align: right;\">\n",
       "      <th></th>\n",
       "      <th>brand_name</th>\n",
       "      <th>os</th>\n",
       "      <th>popularity</th>\n",
       "      <th>best_price</th>\n",
       "      <th>sellers_amount</th>\n",
       "      <th>screen_size</th>\n",
       "      <th>memory_size</th>\n",
       "      <th>battery_size</th>\n",
       "      <th>release_year</th>\n",
       "    </tr>\n",
       "    <tr>\n",
       "      <th>model_name</th>\n",
       "      <th></th>\n",
       "      <th></th>\n",
       "      <th></th>\n",
       "      <th></th>\n",
       "      <th></th>\n",
       "      <th></th>\n",
       "      <th></th>\n",
       "      <th></th>\n",
       "      <th></th>\n",
       "    </tr>\n",
       "  </thead>\n",
       "  <tbody>\n",
       "    <tr>\n",
       "      <th>105 Dual Sim 2019 Black (16KIGB01A01)</th>\n",
       "      <td>Nokia</td>\n",
       "      <td>missing</td>\n",
       "      <td>262</td>\n",
       "      <td>601.0</td>\n",
       "      <td>31</td>\n",
       "      <td>1.77</td>\n",
       "      <td>-1.0</td>\n",
       "      <td>800.0</td>\n",
       "      <td>2019</td>\n",
       "    </tr>\n",
       "    <tr>\n",
       "      <th>105 Single Sim 2019 Black (16KIGB01A13)</th>\n",
       "      <td>Nokia</td>\n",
       "      <td>missing</td>\n",
       "      <td>805</td>\n",
       "      <td>536.0</td>\n",
       "      <td>31</td>\n",
       "      <td>1.77</td>\n",
       "      <td>-1.0</td>\n",
       "      <td>800.0</td>\n",
       "      <td>2019</td>\n",
       "    </tr>\n",
       "    <tr>\n",
       "      <th>105 Single Sim 2019 Pink (16KIGP01A13)</th>\n",
       "      <td>Nokia</td>\n",
       "      <td>missing</td>\n",
       "      <td>692</td>\n",
       "      <td>547.0</td>\n",
       "      <td>35</td>\n",
       "      <td>1.77</td>\n",
       "      <td>-1.0</td>\n",
       "      <td>800.0</td>\n",
       "      <td>2019</td>\n",
       "    </tr>\n",
       "    <tr>\n",
       "      <th>106 New DS Grey (16NEBD01A02)</th>\n",
       "      <td>Nokia</td>\n",
       "      <td>missing</td>\n",
       "      <td>838</td>\n",
       "      <td>596.0</td>\n",
       "      <td>35</td>\n",
       "      <td>1.80</td>\n",
       "      <td>-1.0</td>\n",
       "      <td>800.0</td>\n",
       "      <td>2019</td>\n",
       "    </tr>\n",
       "    <tr>\n",
       "      <th>110 Dual Sim 2019 Black (16NKLB01A07)</th>\n",
       "      <td>Nokia</td>\n",
       "      <td>missing</td>\n",
       "      <td>471</td>\n",
       "      <td>710.0</td>\n",
       "      <td>34</td>\n",
       "      <td>1.77</td>\n",
       "      <td>-1.0</td>\n",
       "      <td>800.0</td>\n",
       "      <td>2019</td>\n",
       "    </tr>\n",
       "  </tbody>\n",
       "</table>\n",
       "</div>"
      ],
      "text/plain": [
       "                                        brand_name       os  popularity  \\\n",
       "model_name                                                                \n",
       "105 Dual Sim 2019 Black (16KIGB01A01)        Nokia  missing         262   \n",
       "105 Single Sim 2019 Black (16KIGB01A13)      Nokia  missing         805   \n",
       "105 Single Sim 2019 Pink (16KIGP01A13)       Nokia  missing         692   \n",
       "106 New DS Grey (16NEBD01A02)                Nokia  missing         838   \n",
       "110 Dual Sim 2019 Black (16NKLB01A07)        Nokia  missing         471   \n",
       "\n",
       "                                         best_price  sellers_amount  \\\n",
       "model_name                                                            \n",
       "105 Dual Sim 2019 Black (16KIGB01A01)         601.0              31   \n",
       "105 Single Sim 2019 Black (16KIGB01A13)       536.0              31   \n",
       "105 Single Sim 2019 Pink (16KIGP01A13)        547.0              35   \n",
       "106 New DS Grey (16NEBD01A02)                 596.0              35   \n",
       "110 Dual Sim 2019 Black (16NKLB01A07)         710.0              34   \n",
       "\n",
       "                                         screen_size  memory_size  \\\n",
       "model_name                                                          \n",
       "105 Dual Sim 2019 Black (16KIGB01A01)           1.77         -1.0   \n",
       "105 Single Sim 2019 Black (16KIGB01A13)         1.77         -1.0   \n",
       "105 Single Sim 2019 Pink (16KIGP01A13)          1.77         -1.0   \n",
       "106 New DS Grey (16NEBD01A02)                   1.80         -1.0   \n",
       "110 Dual Sim 2019 Black (16NKLB01A07)           1.77         -1.0   \n",
       "\n",
       "                                         battery_size  release_year  \n",
       "model_name                                                           \n",
       "105 Dual Sim 2019 Black (16KIGB01A01)           800.0          2019  \n",
       "105 Single Sim 2019 Black (16KIGB01A13)         800.0          2019  \n",
       "105 Single Sim 2019 Pink (16KIGP01A13)          800.0          2019  \n",
       "106 New DS Grey (16NEBD01A02)                   800.0          2019  \n",
       "110 Dual Sim 2019 Black (16NKLB01A07)           800.0          2019  "
      ]
     },
     "execution_count": 14,
     "metadata": {},
     "output_type": "execute_result"
    }
   ],
   "source": [
    "df[df[\"memory_size\"] == -1].head()"
   ]
  },
  {
   "cell_type": "markdown",
   "id": "cc312f5f-4215-485e-ad52-de7fb7bfd446",
   "metadata": {},
   "source": [
    "## Reduce cardinality \n",
    "For os and brand name"
   ]
  },
  {
   "cell_type": "code",
   "execution_count": 15,
   "id": "bbf3eb37-0fe9-466c-bd6d-b2de87d950f9",
   "metadata": {},
   "outputs": [
    {
     "data": {
      "text/plain": [
       "Android         801\n",
       "missing         163\n",
       "iOS              98\n",
       "OxygenOS          2\n",
       "WindowsPhone      2\n",
       "EMUI              1\n",
       "KAIOS             1\n",
       "Name: os, dtype: int64"
      ]
     },
     "execution_count": 15,
     "metadata": {},
     "output_type": "execute_result"
    }
   ],
   "source": [
    "df[\"os\"].value_counts()"
   ]
  },
  {
   "cell_type": "code",
   "execution_count": 16,
   "id": "d5107af0-7ef3-443c-aff3-e882b40388f1",
   "metadata": {},
   "outputs": [
    {
     "data": {
      "text/plain": [
       "Android    801\n",
       "missing    163\n",
       "iOS         98\n",
       "other        6\n",
       "Name: os, dtype: int64"
      ]
     },
     "execution_count": 16,
     "metadata": {},
     "output_type": "execute_result"
    }
   ],
   "source": [
    "df.loc[~df[\"os\"].isin([\"Android\", \"iOS\", \"missing\"]), \"os\"] = \"other\"\n",
    "df[\"os\"].value_counts()"
   ]
  },
  {
   "cell_type": "code",
   "execution_count": 18,
   "id": "3145251e-6483-464b-81d8-3a787d95bbeb",
   "metadata": {},
   "outputs": [],
   "source": [
    "top5 = df[\"brand_name\"].value_counts().index[:5]"
   ]
  },
  {
   "cell_type": "code",
   "execution_count": 19,
   "id": "7e2360a4-f3ee-4b6a-adf6-791c28cb2c49",
   "metadata": {},
   "outputs": [],
   "source": [
    "df.loc[~df[\"brand_name\"].isin(top5), \"brand_name\"] = \"other\""
   ]
  },
  {
   "cell_type": "code",
   "execution_count": 20,
   "id": "dd9c79e8-e9ff-4db3-a0fd-1d35699321b6",
   "metadata": {},
   "outputs": [
    {
     "data": {
      "text/plain": [
       "other           618\n",
       "Samsung         149\n",
       "Xiaomi          105\n",
       "Apple            97\n",
       "Motorola         53\n",
       "Sigma mobile     46\n",
       "Name: brand_name, dtype: int64"
      ]
     },
     "execution_count": 20,
     "metadata": {},
     "output_type": "execute_result"
    }
   ],
   "source": [
    "df[\"brand_name\"].value_counts()"
   ]
  },
  {
   "cell_type": "markdown",
   "id": "8dd696ba-a7a9-4b76-a63c-8e1917f9e28e",
   "metadata": {},
   "source": [
    "## Add target for classification "
   ]
  },
  {
   "cell_type": "code",
   "execution_count": 21,
   "id": "23ca4197-dcf0-4402-8cf7-62efd0d98d90",
   "metadata": {},
   "outputs": [],
   "source": [
    "df[\"price_range\"] = pd.qcut(\n",
    "    df[\"best_price\"], 4, labels=[\"low\", \"medium-low\", \"medium-high\", \"high\"]\n",
    ").astype(str)"
   ]
  },
  {
   "cell_type": "code",
   "execution_count": 22,
   "id": "23b5fd64-31d5-41e9-b5b1-3ed764ff4aa1",
   "metadata": {},
   "outputs": [],
   "source": [
    "# Best price could stay if we want to do a regression too. Not for this workshop\n",
    "df.drop(columns=\"best_price\", inplace=True)"
   ]
  },
  {
   "cell_type": "markdown",
   "id": "e3bf9567-02eb-4896-9751-17b916d99f02",
   "metadata": {},
   "source": [
    "## Export dataset"
   ]
  },
  {
   "cell_type": "code",
   "execution_count": 23,
   "id": "d39b5c66-f1e2-4b69-b5ce-e361e9b0aa16",
   "metadata": {},
   "outputs": [],
   "source": [
    "df.to_csv(path_data + \"phones_data_prepared.csv\")"
   ]
  },
  {
   "cell_type": "code",
   "execution_count": null,
   "id": "3c18726a-4c35-4bc5-9f81-cf571e9e8e90",
   "metadata": {},
   "outputs": [],
   "source": []
  }
 ],
 "metadata": {
  "kernelspec": {
   "display_name": "Python 3 (ipykernel)",
   "language": "python",
   "name": "python3"
  },
  "language_info": {
   "codemirror_mode": {
    "name": "ipython",
    "version": 3
   },
   "file_extension": ".py",
   "mimetype": "text/x-python",
   "name": "python",
   "nbconvert_exporter": "python",
   "pygments_lexer": "ipython3",
   "version": "3.9.7"
  }
 },
 "nbformat": 4,
 "nbformat_minor": 5
}
